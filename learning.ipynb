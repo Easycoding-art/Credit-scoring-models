{
 "cells": [
  {
   "cell_type": "code",
   "execution_count": 1,
   "metadata": {},
   "outputs": [],
   "source": [
    "import pandas as pd\n",
    "from sklearn.linear_model import LogisticRegression\n",
    "from sklearn.neighbors import KNeighborsClassifier\n",
    "from sklearn.ensemble import RandomForestClassifier\n",
    "from sklearn.metrics import classification_report\n",
    "from sklearn.metrics import f1_score\n",
    "from sklearn.metrics import roc_auc_score\n",
    "import matplotlib.pyplot as plt\n",
    "from sklearn.model_selection import train_test_split\n",
    "from sklearn.preprocessing import OneHotEncoder\n",
    "from math import sqrt\n",
    "from imblearn.over_sampling import SMOTE\n",
    "import warnings\n",
    "warnings.filterwarnings('ignore')"
   ]
  },
  {
   "cell_type": "code",
   "execution_count": 2,
   "metadata": {},
   "outputs": [],
   "source": [
    "df = pd.read_csv('Equifax_pdl_US_2023.csv')\n",
    "df.drop_duplicates()\n",
    "df.drop(['client_id', 'application_date'], axis=1 , inplace=True)\n",
    "df = pd.get_dummies(df, columns=['branch_category', 'gender', 'education_level'])\n",
    "Y = df['default_status']\n",
    "X = df.drop(['default_status'], axis=1)\n",
    "smote = SMOTE(sampling_strategy='auto', random_state=None, k_neighbors=5, n_jobs=-1)\n",
    "X, Y = smote.fit_resample(X, Y)\n",
    "x_train, x_test, y_train, y_test = train_test_split(X, Y, test_size=0.1, random_state=42)"
   ]
  },
  {
   "cell_type": "code",
   "execution_count": 3,
   "metadata": {},
   "outputs": [
    {
     "name": "stdout",
     "output_type": "stream",
     "text": [
      "              precision    recall  f1-score   support\n",
      "\n",
      "           0       0.79      0.72      0.75      6990\n",
      "           1       0.70      0.77      0.73      5827\n",
      "\n",
      "    accuracy                           0.74     12817\n",
      "   macro avg       0.74      0.74      0.74     12817\n",
      "weighted avg       0.75      0.74      0.74     12817\n",
      "\n"
     ]
    }
   ],
   "source": [
    "log_reg = LogisticRegression()\n",
    "log_reg.fit(x_train, y_train)\n",
    "y_predicted = log_reg.predict(x_test)\n",
    "print(classification_report(y_predicted, y_test))"
   ]
  },
  {
   "cell_type": "code",
   "execution_count": 69,
   "metadata": {},
   "outputs": [
    {
     "name": "stdout",
     "output_type": "stream",
     "text": [
      "              precision    recall  f1-score   support\n",
      "\n",
      "           0       0.89      0.89      0.89      6418\n",
      "           1       0.89      0.89      0.89      6399\n",
      "\n",
      "    accuracy                           0.89     12817\n",
      "   macro avg       0.89      0.89      0.89     12817\n",
      "weighted avg       0.89      0.89      0.89     12817\n",
      "\n"
     ]
    }
   ],
   "source": [
    "depth = round(sqrt(len(list(X))))\n",
    "rf = RandomForestClassifier(n_estimators=100, max_depth=depth)\n",
    "rf.fit(x_train, y_train)\n",
    "y_predicted = rf.predict(x_test)\n",
    "print(classification_report(y_predicted, y_test))"
   ]
  },
  {
   "cell_type": "code",
   "execution_count": 4,
   "metadata": {},
   "outputs": [
    {
     "name": "stdout",
     "output_type": "stream",
     "text": [
      "              precision    recall  f1-score   support\n",
      "\n",
      "           0       0.79      0.72      0.75      6990\n",
      "           1       0.70      0.77      0.73      5827\n",
      "\n",
      "    accuracy                           0.74     12817\n",
      "   macro avg       0.74      0.74      0.74     12817\n",
      "weighted avg       0.75      0.74      0.74     12817\n",
      "\n",
      "roc_auc_score: 0.7446896851590924\n"
     ]
    }
   ],
   "source": [
    "knn = KNeighborsClassifier(n_neighbors=5)\n",
    "log_reg.fit(x_train, y_train)\n",
    "y_predicted = log_reg.predict(x_test)\n",
    "print(classification_report(y_predicted, y_test))\n",
    "print(f'roc_auc_score: {roc_auc_score(y_predicted, y_test)}')"
   ]
  },
  {
   "cell_type": "markdown",
   "metadata": {},
   "source": [
    "According to the classification metrics, the Random Forest algorithm showed the best result"
   ]
  }
 ],
 "metadata": {
  "kernelspec": {
   "display_name": "Python 3",
   "language": "python",
   "name": "python3"
  },
  "language_info": {
   "codemirror_mode": {
    "name": "ipython",
    "version": 3
   },
   "file_extension": ".py",
   "mimetype": "text/x-python",
   "name": "python",
   "nbconvert_exporter": "python",
   "pygments_lexer": "ipython3",
   "version": "3.12.3"
  }
 },
 "nbformat": 4,
 "nbformat_minor": 2
}
